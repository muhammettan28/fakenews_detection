{
 "cells": [
  {
   "cell_type": "code",
   "execution_count": 1,
   "id": "573438fe-b68d-4c84-bc9c-bdc42bfbbb40",
   "metadata": {},
   "outputs": [],
   "source": [
    "#pip install tensorflow_hub\n",
    "#pip install tensorflow-gpu==2.10.0\n",
    "#pip install keras\n",
    "#pip install tensorflow-text\n",
    "#!pip install keras-tuner --upgrade"
   ]
  },
  {
   "cell_type": "code",
   "execution_count": 2,
   "id": "956d15ef-d516-4eff-98e7-416e36882ec0",
   "metadata": {
    "tags": []
   },
   "outputs": [],
   "source": [
    "import pandas as pd\n",
    "import numpy as np\n",
    "from sklearn.preprocessing import LabelEncoder\n",
    "from sklearn.feature_extraction.text import TfidfVectorizer, CountVectorizer # text vectorizer\n",
    "import seaborn as sns\n",
    "from sklearn.model_selection import train_test_split\n",
    "import matplotlib.pyplot as plt\n",
    "import tensorflow as tf\n",
    "import tensorflow_hub as hub\n",
    "import tensorflow_text as text\n",
    "import re\n",
    "from spacy.lang.en.stop_words import STOP_WORDS as stopwords\n",
    "from tensorflow.keras.layers import Dense, Input,Dropout\n",
    "from tensorflow.keras.models import Model\n",
    "from tensorflow.keras.optimizers import Adam,SGD,RMSprop,Adamax,Nadam\n",
    "from tensorflow.keras.callbacks import ModelCheckpoint\n",
    "from tensorflow.keras.preprocessing.sequence import pad_sequences\n",
    "from tensorflow.keras.preprocessing.text import Tokenizer\n",
    "from transformers import TFDistilBertModel, DistilBertTokenizer,TFT5Model,T5Tokenizer\n",
    "import matplotlib.pyplot as plt\n",
    "import spacy\n",
    "from sklearn.feature_extraction.text import TfidfVectorizer, CountVectorizer\n",
    "from sklearn.tree import DecisionTreeClassifier, ExtraTreeClassifier\n",
    "from xgboost import XGBClassifier, XGBRFClassifier\n",
    "from sklearn.ensemble import (AdaBoostClassifier, RandomForestClassifier, ExtraTreesClassifier,GradientBoostingClassifier, BaggingClassifier)\n",
    "from sklearn.linear_model import LogisticRegression\n",
    "from sklearn.svm import SVC\n",
    "from sklearn.linear_model import SGDClassifier\n",
    "import time\n",
    "from sklearn.metrics import (mean_squared_error, r2_score, f1_score, roc_auc_score, mean_absolute_error)\n",
    "from sklearn.metrics import confusion_matrix, ConfusionMatrixDisplay, classification_report\n",
    "from sklearn.metrics import accuracy_score,precision_score, recall_score\n",
    "from sklearn.model_selection import cross_val_score\n"
   ]
  },
  {
   "cell_type": "code",
   "execution_count": 3,
   "id": "04df1ad3-d0e2-4cf5-a071-5e1fdc9e50aa",
   "metadata": {},
   "outputs": [
    {
     "name": "stdout",
     "output_type": "stream",
     "text": [
      "[PhysicalDevice(name='/physical_device:GPU:0', device_type='GPU')]\n",
      "TensorFlow Sürümü: 2.10.1\n"
     ]
    }
   ],
   "source": [
    "print(tf.config.list_physical_devices('GPU'))\n",
    "print(\"TensorFlow Sürümü:\", tf.__version__)"
   ]
  },
  {
   "cell_type": "code",
   "execution_count": 4,
   "id": "0740fb13-3027-4ee3-8810-cb44029b932a",
   "metadata": {
    "tags": []
   },
   "outputs": [],
   "source": [
    "data=pd.read_csv('Truth_Seeker.csv')"
   ]
  },
  {
   "cell_type": "code",
   "execution_count": 5,
   "id": "9eaccc2b-205b-438c-b1d4-5de5539df2d7",
   "metadata": {},
   "outputs": [],
   "source": [
    "data['BinaryNumTarget'] = data['BinaryNumTarget'].astype(int)"
   ]
  },
  {
   "cell_type": "code",
   "execution_count": 6,
   "id": "afb7eadf-30a3-4793-9180-345f89ef0a18",
   "metadata": {},
   "outputs": [
    {
     "data": {
      "text/html": [
       "<div>\n",
       "<style scoped>\n",
       "    .dataframe tbody tr th:only-of-type {\n",
       "        vertical-align: middle;\n",
       "    }\n",
       "\n",
       "    .dataframe tbody tr th {\n",
       "        vertical-align: top;\n",
       "    }\n",
       "\n",
       "    .dataframe thead th {\n",
       "        text-align: right;\n",
       "    }\n",
       "</style>\n",
       "<table border=\"1\" class=\"dataframe\">\n",
       "  <thead>\n",
       "    <tr style=\"text-align: right;\">\n",
       "      <th></th>\n",
       "      <th>Unnamed: 0</th>\n",
       "      <th>author</th>\n",
       "      <th>statement</th>\n",
       "      <th>target</th>\n",
       "      <th>BinaryNumTarget</th>\n",
       "      <th>manual_keywords</th>\n",
       "      <th>tweet</th>\n",
       "      <th>5_label_majority_answer</th>\n",
       "      <th>3_label_majority_answer</th>\n",
       "    </tr>\n",
       "  </thead>\n",
       "  <tbody>\n",
       "    <tr>\n",
       "      <th>0</th>\n",
       "      <td>0</td>\n",
       "      <td>D.L. Davis</td>\n",
       "      <td>End of eviction moratorium means millions of A...</td>\n",
       "      <td>True</td>\n",
       "      <td>1</td>\n",
       "      <td>Americans, eviction moratorium</td>\n",
       "      <td>@POTUS Biden Blunders - 6 Month Update\\n\\nInfl...</td>\n",
       "      <td>Mostly Agree</td>\n",
       "      <td>Agree</td>\n",
       "    </tr>\n",
       "    <tr>\n",
       "      <th>1</th>\n",
       "      <td>1</td>\n",
       "      <td>D.L. Davis</td>\n",
       "      <td>End of eviction moratorium means millions of A...</td>\n",
       "      <td>True</td>\n",
       "      <td>1</td>\n",
       "      <td>Americans, eviction moratorium</td>\n",
       "      <td>@S0SickRick @Stairmaster_ @6d6f636869 Not as m...</td>\n",
       "      <td>NO MAJORITY</td>\n",
       "      <td>Agree</td>\n",
       "    </tr>\n",
       "    <tr>\n",
       "      <th>2</th>\n",
       "      <td>2</td>\n",
       "      <td>D.L. Davis</td>\n",
       "      <td>End of eviction moratorium means millions of A...</td>\n",
       "      <td>True</td>\n",
       "      <td>1</td>\n",
       "      <td>Americans, eviction moratorium</td>\n",
       "      <td>THE SUPREME COURT is siding with super rich pr...</td>\n",
       "      <td>Agree</td>\n",
       "      <td>Agree</td>\n",
       "    </tr>\n",
       "    <tr>\n",
       "      <th>3</th>\n",
       "      <td>3</td>\n",
       "      <td>D.L. Davis</td>\n",
       "      <td>End of eviction moratorium means millions of A...</td>\n",
       "      <td>True</td>\n",
       "      <td>1</td>\n",
       "      <td>Americans, eviction moratorium</td>\n",
       "      <td>@POTUS Biden Blunders\\n\\nBroken campaign promi...</td>\n",
       "      <td>Mostly Agree</td>\n",
       "      <td>Agree</td>\n",
       "    </tr>\n",
       "    <tr>\n",
       "      <th>4</th>\n",
       "      <td>4</td>\n",
       "      <td>D.L. Davis</td>\n",
       "      <td>End of eviction moratorium means millions of A...</td>\n",
       "      <td>True</td>\n",
       "      <td>1</td>\n",
       "      <td>Americans, eviction moratorium</td>\n",
       "      <td>@OhComfy I agree. The confluence of events rig...</td>\n",
       "      <td>Agree</td>\n",
       "      <td>Agree</td>\n",
       "    </tr>\n",
       "  </tbody>\n",
       "</table>\n",
       "</div>"
      ],
      "text/plain": [
       "   Unnamed: 0      author                                          statement  \\\n",
       "0           0  D.L. Davis  End of eviction moratorium means millions of A...   \n",
       "1           1  D.L. Davis  End of eviction moratorium means millions of A...   \n",
       "2           2  D.L. Davis  End of eviction moratorium means millions of A...   \n",
       "3           3  D.L. Davis  End of eviction moratorium means millions of A...   \n",
       "4           4  D.L. Davis  End of eviction moratorium means millions of A...   \n",
       "\n",
       "   target  BinaryNumTarget                 manual_keywords  \\\n",
       "0    True                1  Americans, eviction moratorium   \n",
       "1    True                1  Americans, eviction moratorium   \n",
       "2    True                1  Americans, eviction moratorium   \n",
       "3    True                1  Americans, eviction moratorium   \n",
       "4    True                1  Americans, eviction moratorium   \n",
       "\n",
       "                                               tweet 5_label_majority_answer  \\\n",
       "0  @POTUS Biden Blunders - 6 Month Update\\n\\nInfl...            Mostly Agree   \n",
       "1  @S0SickRick @Stairmaster_ @6d6f636869 Not as m...             NO MAJORITY   \n",
       "2  THE SUPREME COURT is siding with super rich pr...                   Agree   \n",
       "3  @POTUS Biden Blunders\\n\\nBroken campaign promi...            Mostly Agree   \n",
       "4  @OhComfy I agree. The confluence of events rig...                   Agree   \n",
       "\n",
       "  3_label_majority_answer  \n",
       "0                   Agree  \n",
       "1                   Agree  \n",
       "2                   Agree  \n",
       "3                   Agree  \n",
       "4                   Agree  "
      ]
     },
     "execution_count": 6,
     "metadata": {},
     "output_type": "execute_result"
    }
   ],
   "source": [
    "data.head()"
   ]
  },
  {
   "cell_type": "code",
   "execution_count": 7,
   "id": "60b5ea19-6db7-4bc2-b84b-e85732a38d72",
   "metadata": {
    "tags": []
   },
   "outputs": [],
   "source": [
    "data.rename( columns={'Unnamed: 0':'index'}, inplace=True )\n",
    "data.drop('index',axis=1,inplace=True)"
   ]
  },
  {
   "cell_type": "code",
   "execution_count": 8,
   "id": "a8653464-19f5-4c64-b0b1-0259a6fa46d0",
   "metadata": {
    "tags": []
   },
   "outputs": [
    {
     "data": {
      "text/plain": [
       "<Axes: xlabel='BinaryNumTarget', ylabel='count'>"
      ]
     },
     "execution_count": 8,
     "metadata": {},
     "output_type": "execute_result"
    },
    {
     "data": {
      "image/png": "[encoded data removed]",
      "text/plain": [
       "<Figure size 640x480 with 1 Axes>"
      ]
     },
     "metadata": {},
     "output_type": "display_data"
    }
   ],
   "source": [
    "sns.countplot(x='BinaryNumTarget',data=data) # our outputs"
   ]
  },
  {
   "cell_type": "code",
   "execution_count": 9,
   "id": "2b00386a-1d1a-4109-9d5c-32c7015c358b",
   "metadata": {
    "tags": []
   },
   "outputs": [],
   "source": [
    "x=data.tweet\n",
    "y=data.BinaryNumTarget\n",
    "cols_to_remove=['author','target','BinaryNumTarget','manual_keywords']\n",
    "data.drop(cols_to_remove,inplace=True,axis=1)"
   ]
  },
  {
   "cell_type": "code",
   "execution_count": null,
   "id": "3c991bc5-2c7f-453f-8569-769149a6a55b",
   "metadata": {},
   "outputs": [],
   "source": []
  },
  {
   "cell_type": "code",
   "execution_count": 10,
   "id": "f163ab12-b81f-48d4-bb8b-617bbccbec92",
   "metadata": {
    "tags": []
   },
   "outputs": [
    {
     "data": {
      "text/plain": [
       "statement                  0\n",
       "tweet                      0\n",
       "5_label_majority_answer    0\n",
       "3_label_majority_answer    0\n",
       "dtype: object"
      ]
     },
     "execution_count": 10,
     "metadata": {},
     "output_type": "execute_result"
    }
   ],
   "source": [
    "data[data.duplicated()].sum()"
   ]
  },
  {
   "cell_type": "markdown",
   "id": "bf54217b-999f-4632-a699-a0fe188a1c81",
   "metadata": {},
   "source": [
    "Text Cleaning Section"
   ]
  },
  {
   "cell_type": "code",
   "execution_count": 11,
   "id": "a86dee08-a73f-4836-8286-cb650fd2eafb",
   "metadata": {
    "tags": []
   },
   "outputs": [],
   "source": [
    "contractions = { \n",
    "\"ain't\": \"am not\",\n",
    "\"aren't\": \"are not\",\n",
    "\"can't\": \"cannot\",\n",
    "\"can't've\": \"cannot have\",\n",
    "\"'cause\": \"because\",\n",
    "\"could've\": \"could have\",\n",
    "\"couldn't\": \"could not\",\n",
    "\"couldn't've\": \"could not have\",\n",
    "\"didn't\": \"did not\",\n",
    "\"doesn't\": \"does not\",\n",
    "\"don't\": \"do not\",\n",
    "\"hadn't\": \"had not\",\n",
    "\"hadn't've\": \"had not have\",\n",
    "\"hasn't\": \"has not\",\n",
    "\"haven't\": \"have not\",\n",
    "\"he'd\": \"he would\",\n",
    "\"he'd've\": \"he would have\",\n",
    "\"he'll\": \"he will\",\n",
    "\"he'll've\": \"he will have\",\n",
    "\"he's\": \"he is\",\n",
    "\"how'd\": \"how did\",\n",
    "\"how'd'y\": \"how do you\",\n",
    "\"how'll\": \"how will\",\n",
    "\"how's\": \"how does\",\n",
    "\"i'd\": \"i would\",\n",
    "\"i'd've\": \"i would have\",\n",
    "\"i'll\": \"i will\",\n",
    "\"i'll've\": \"i will have\",\n",
    "\"i'm\": \"i am\",\n",
    "\"i've\": \"i have\",\n",
    "\"isn't\": \"is not\",\n",
    "\"it'd\": \"it would\",\n",
    "\"it'd've\": \"it would have\",\n",
    "\"it'll\": \"it will\",\n",
    "\"it'll've\": \"it will have\",\n",
    "\"it's\": \"it is\",\n",
    "\"let's\": \"let us\",\n",
    "\"ma'am\": \"madam\",\n",
    "\"mayn't\": \"may not\",\n",
    "\"might've\": \"might have\",\n",
    "\"mightn't\": \"might not\",\n",
    "\"mightn't've\": \"might not have\",\n",
    "\"must've\": \"must have\",\n",
    "\"mustn't\": \"must not\",\n",
    "\"mustn't've\": \"must not have\",\n",
    "\"needn't\": \"need not\",\n",
    "\"needn't've\": \"need not have\",\n",
    "\"o'clock\": \"of the clock\",\n",
    "\"oughtn't\": \"ought not\",\n",
    "\"oughtn't've\": \"ought not have\",\n",
    "\"shan't\": \"shall not\",\n",
    "\"sha'n't\": \"shall not\",\n",
    "\"shan't've\": \"shall not have\",\n",
    "\"she'd\": \"she would\",\n",
    "\"she'd've\": \"she would have\",\n",
    "\"she'll\": \"she will\",\n",
    "\"she'll've\": \"she will have\",\n",
    "\"she's\": \"she is\",\n",
    "\"should've\": \"should have\",\n",
    "\"shouldn't\": \"should not\",\n",
    "\"shouldn't've\": \"should not have\",\n",
    "\"so've\": \"so have\",\n",
    "\"so's\": \"so is\",\n",
    "\"that'd\": \"that would\",\n",
    "\"that'd've\": \"that would have\",\n",
    "\"that's\": \"that is\",\n",
    "\"there'd\": \"there would\",\n",
    "\"there'd've\": \"there would have\",\n",
    "\"there's\": \"there is\",\n",
    "\"they'd\": \"they would\",\n",
    "\"they'd've\": \"they would have\",\n",
    "\"they'll\": \"they will\",\n",
    "\"they'll've\": \"they will have\",\n",
    "\"they're\": \"they are\",\n",
    "\"they've\": \"they have\",\n",
    "\"to've\": \"to have\",\n",
    "\"wasn't\": \"was not\",\n",
    "\" u \": \" you \",\n",
    "\" ur \": \" your \",\n",
    "\" n \": \" and \",\n",
    "\"won't\": \"would not\",\n",
    "'dis': 'this',\n",
    "'bak': 'back',\n",
    "'brng': 'bring'}\n",
    "\n",
    "def _remove_emails(x):\n",
    "    return re.sub(r'([a-z0-9+._-]+@[a-z0-9+._-]+\\.[a-z0-9+_-]+)', \"\", x)\n",
    "\n",
    "def _remove_urls(x):\n",
    "    return re.sub(r'(http|https|ftp|ssh)://([\\w_-]+(?:(?:\\.[\\w_-]+)+))([\\w.,@?^=%&:/~+#-]*[\\w@?^=%&/~+#-])?', '', x)\n",
    "\n",
    "def _remove_rt(x):\n",
    "    return re.sub(r'\\brt\\b', '', x).strip()\n",
    "\n",
    "def _remove_special_chars(x):\n",
    "    x = re.sub(r'[^\\w ]+', \"\", x)\n",
    "    x = ' '.join(x.split())\n",
    "    return x\n",
    "\n",
    "def _remove_html_tags(x):\n",
    "    return re.sub(r'<.*?>', '', x)\n",
    "\n",
    "def _remove_stopwords(x):\n",
    "    return ' '.join([t for t in x.split() if t not in stopwords])\n",
    "\n",
    "def _remove_mentions(x):\n",
    "    return ' '.join([word for word in x.split() if not word.startswith('@')])\n",
    "\n",
    "def _remove_hashtags(x):\n",
    "    return ' '.join([word for word in x.split() if not word.startswith('#')])\n",
    "\n",
    "def cont_to_exp(x):\n",
    "    if type(x) is str:\n",
    "        for key in contractions:\n",
    "            value=contractions[key]\n",
    "            x=x.replace(key,value)\n",
    "        return x\n",
    "    else:\n",
    "        return x\n",
    "\n",
    "def preprocessingText(x):\n",
    "    x = str(x).lower().replace('\\\\', '').replace('_', ' ').replace('-', ' ')\n",
    "    x = _remove_stopwords(x)\n",
    "    x = _remove_emails(x)\n",
    "    x = _remove_urls(x)\n",
    "    x = _remove_html_tags(x)\n",
    "    x = _remove_rt(x)\n",
    "    x = _remove_mentions(x)\n",
    "    x = _remove_hashtags(x)\n",
    "    x = cont_to_exp(x)\n",
    "    x = re.sub(\"(.)\\\\1{2,}\", \"\\\\1\", x)\n",
    "    \n",
    "    return x"
   ]
  },
  {
   "cell_type": "code",
   "execution_count": 12,
   "id": "29a74eb9-bb19-43c4-9cdc-e314d09bef88",
   "metadata": {},
   "outputs": [
    {
     "name": "stdout",
     "output_type": "stream",
     "text": [
      "0                          @POTUS Biden Blunders - 6 Month Update\\n\\nInflation, Delta mismanagement, COVID for kids, Abandoning Americans in Afghanistan, Arming the Taliban, S. Border crisis, Breaking job growth, Abuse of power (Many Exec Orders, $3.5T through Reconciliation, Eviction Moratorium)...what did I miss?\n",
      "1         @S0SickRick @Stairmaster_ @6d6f636869 Not as many people are literally starving and out in the streets as they were in the 19th century. Isnt capitalism grand?\\n\\nMeanwhile, were facing an eviction moratorium threatening to make millions of Americans homeless.\\n\\nFuck off with this corporatist propaganda.\n",
      "2                                                                                              THE SUPREME COURT is siding with super rich property owners and over poor struggling AMERICANS by blocking the eviction moratorium during a pandemic which isn't even over yet. ASSHOLES! get ready for more homeless people!\n",
      "3                           @POTUS Biden Blunders\\n\\nBroken campaign promises, Inflation, Delta mismanagement, Dems without leadership, Abandoned Americans &amp; Armed the Taliban, S. Border crisis, Breaking job growth, Abuse of power (61 Exec Orders, $1.9T+ in Reconciliation, Eviction Moratorium, Vaccine Mandates)\n",
      "4                                                                            @OhComfy I agree. The confluence of events right now is unprecedented (Afghan disaster, bombing, overturning of the eviction moratorium, collapse of Biden admin credibility). If images come out of Americans being executed by Taliban, SHTF.\n",
      "                                                                                                                                                                 ...                                                                                                                                                        \n",
      "134193                                                                                                                                      Joe Biden's family owned African slaves....\\n\\nJoe Biden's great-grandfather, Joseph J. Biden (1828-1880) was a slave owner and fought for the Confederate States of America....\n",
      "134194                                                                                                                                                                                                                                 Joe Bidens great, great grandfather was a slave owner.\\n\\nHis family owned 12 slaves.\n",
      "134195                                                                                                                                                                          @ChevyChaseToGo \"Joe Bidens great-grandfather Joseph J. Biden (1828-1880) was a slave-owner and fought for the Confederate States of America\n",
      "134196                                              @JoeBiden Facts are Bidens VP Kamala Harris Great Great Grandfather was Hamilton Brown a Prominent Successful Slave Plantation Owner and Slave Driver in Jamaica. So Proud Biden chose a VP that comes from a Slave Driving Family as an example of US American History.\n",
      "134197                                              @sunny Yes representation matters. Did you know that Bidens great great great grandfather was a slave owner. He owned 12 slaves. But. Guess that doesnt matter to you. Biden said if you dont vote for me you aint black. That sounds like something a racist would say.\n",
      "Name: tweet, Length: 134198, dtype: object\n"
     ]
    }
   ],
   "source": [
    "pd.set_option('display.max_colwidth', 500)\n",
    "print(x)"
   ]
  },
  {
   "cell_type": "code",
   "execution_count": 13,
   "id": "f2305abb-039e-43a0-a9b2-ba658554adac",
   "metadata": {},
   "outputs": [
    {
     "name": "stdout",
     "output_type": "stream",
     "text": [
      "0                      biden blunders 6 month update inflation, delta mismanagement, covid kids, abandoning americans afghanistan, arming taliban, s. border crisis, breaking job growth, abuse power (many exec orders, $3.5t reconciliation, eviction moratorium).what miss?\n",
      "1                                                                                           people literally starving streets 19th century. isnt capitalism grand? meanwhile, facing eviction moratorium threatening millions americans homeless. fuck corporatist propaganda.\n",
      "2                                                                                                                 supreme court siding super rich property owners poor struggling americans blocking eviction moratorium pandemic is not yet. assholes! ready homeless people!\n",
      "3         biden blunders broken campaign promises, inflation, delta mismanagement, dems leadership, abandoned americans &amp; armed taliban, s. border crisis, breaking job growth, abuse power (61 exec orders, $1.9t+ reconciliation, eviction moratorium, vaccine mandates)\n",
      "4                                                                                   agree. confluence events right unprecedented (afghan thisaster, bombing, overturning eviction moratorium, collapse biden admin credibility). images come americans executed taliban, shtf.\n",
      "                                                                                                                                          ...                                                                                                                                 \n",
      "134193                                                                                                                      joe biden's family owned african slaves. joe biden's great grandfather, joseph j. biden (1828 1880) slave owner fought confederate states america.\n",
      "134194                                                                                                                                                                                                joe bidens great, great grandfather slave owner. family owned 12 slaves.\n",
      "134195                                                                                                                                                                 \"joe bidens great grandfather joseph j. biden (1828 1880) slave owner fought confederate states america\n",
      "134196                                                        facts bidens vp kamala harris great great grandfather hamilton brown prominent successful slave plantation owner slave driver jamaica. proud biden chose vp comes slave driving family example american history.\n",
      "134197                                                                              yes representation matters. know bidens great great great grandfather slave owner. owned 12 slaves. but. guess doesnt matter you. biden said dont vote aint black. sounds like racist say.\n",
      "Name: tweet, Length: 134198, dtype: object\n"
     ]
    }
   ],
   "source": [
    "pd.set_option('display.max_colwidth', 500)\n",
    "x = x.apply(lambda x: preprocessingText(x))   \n",
    "print(x)"
   ]
  },
  {
   "cell_type": "markdown",
   "id": "a208758c-f972-4ab5-956a-b37f2e3374a6",
   "metadata": {},
   "source": [
    "Machine Learning Section"
   ]
  },
  {
   "cell_type": "code",
   "execution_count": 14,
   "id": "5647cc1e-a7d9-4200-957c-f545d181c3a7",
   "metadata": {},
   "outputs": [],
   "source": [
    "from sklearn.feature_extraction.text import CountVectorizer\n",
    "\n",
    "vectorizer = CountVectorizer(analyzer = \"word\",   \\\n",
    "                             tokenizer = None,    \\\n",
    "                             preprocessor = None, \\\n",
    "                             stop_words = None,   \\\n",
    "                             max_features = 6000)\n",
    "\n",
    "feature_vec = vectorizer.fit_transform(x)"
   ]
  },
  {
   "cell_type": "markdown",
   "id": "b47ea379-edeb-4243-93c1-a162177e96b0",
   "metadata": {},
   "source": [
    "TFIDF Implementation"
   ]
  },
  {
   "cell_type": "code",
   "execution_count": 15,
   "id": "19556042-ad89-43eb-8f22-f0ce8344e707",
   "metadata": {},
   "outputs": [],
   "source": [
    "from sklearn.feature_extraction.text import TfidfTransformer\n",
    "tf_transformer = TfidfTransformer(use_idf=True).fit(feature_vec)\n",
    "X_train_tf = tf_transformer.transform(feature_vec)"
   ]
  },
  {
   "cell_type": "markdown",
   "id": "41f7866a-ff72-46d8-ab86-b7d1816db97b",
   "metadata": {},
   "source": [
    "TomekLinks Implementation in order to prevent misclassification and get more balanced data"
   ]
  },
  {
   "cell_type": "code",
   "execution_count": 16,
   "id": "65a2f81b-1938-4f55-8481-7ae7ba1c7d03",
   "metadata": {},
   "outputs": [
    {
     "name": "stdout",
     "output_type": "stream",
     "text": [
      "BinaryNumTarget\n",
      "1    68876\n",
      "0    65268\n",
      "Name: count, dtype: int64\n"
     ]
    }
   ],
   "source": [
    "from imblearn.under_sampling import TomekLinks\n",
    "tl = TomekLinks()\n",
    "X_tl, y_tl= tl.fit_resample(X_train_tf, y)\n",
    "print(y_tl.value_counts())"
   ]
  },
  {
   "cell_type": "code",
   "execution_count": 17,
   "id": "cca0e66f-8534-4189-8189-7b93fab200bd",
   "metadata": {},
   "outputs": [
    {
     "data": {
      "text/plain": [
       "BinaryNumTarget\n",
       "1    13775\n",
       "0    13054\n",
       "Name: count, dtype: int64"
      ]
     },
     "execution_count": 17,
     "metadata": {},
     "output_type": "execute_result"
    }
   ],
   "source": [
    "from sklearn.model_selection import train_test_split\n",
    "x_train, x_test, y_train, y_test = train_test_split(X_tl, y_tl, train_size=0.8, test_size=0.2,stratify=y_tl)\n",
    "\n",
    "y_test.value_counts()"
   ]
  },
  {
   "cell_type": "code",
   "execution_count": 18,
   "id": "d6da0308-e66a-4111-992c-9d361bed2541",
   "metadata": {
    "editable": true,
    "slideshow": {
     "slide_type": ""
    },
    "tags": []
   },
   "outputs": [],
   "source": [
    "classification_models = [\n",
    "    LogisticRegression(random_state=42),\n",
    "    DecisionTreeClassifier(random_state=42),\n",
    "    ExtraTreeClassifier(random_state=42),\n",
    "    XGBClassifier(random_state=42),\n",
    "    XGBRFClassifier(random_state=42),\n",
    "    AdaBoostClassifier(random_state=42),\n",
    "    RandomForestClassifier(random_state=42),\n",
    "    ExtraTreesClassifier(random_state=42),\n",
    "    GradientBoostingClassifier(random_state=42),\n",
    "    BaggingClassifier(random_state=42),\n",
    "    SGDClassifier(random_state=42),\n",
    "    SVC(random_state=42)]\n",
    "\n",
    "def evaluate_classification_models(x_train, x_test, y_train, y_test, models):\n",
    "    \n",
    "    model_results = []\n",
    "    trained_models = {}\n",
    "    for model in models:\n",
    "        model.fit(x_train, y_train)\n",
    "        trained_models[model.__class__.__name__] = model  # Save trained model with name\n",
    "        start_time = time.time()  # Record start time\n",
    "        prediction = model.predict(x_test)\n",
    "        inference_time = time.time() - start_time  # Calculate inference time\n",
    "\n",
    "        model_results.append({\n",
    "            \"Model-Name\": model.__class__.__name__,\n",
    "            \"Accuracy\": accuracy_score(y_test, prediction) * 100,\n",
    "            \"ROC_AUC\": roc_auc_score(y_test, prediction),\n",
    "            \"F1_Score\": f1_score(y_test, prediction),\n",
    "            \"Precision\": precision_score(y_test, prediction),\n",
    "            \"Recall\": recall_score(y_test, prediction),\n",
    "            \"Inference Time (ms)\": inference_time * 1000\n",
    "        })\n",
    "\n",
    "    models_df = pd.DataFrame(model_results)\n",
    "    models_df = models_df.set_index('Model-Name')\n",
    "    models_df = models_df.sort_values(\"F1_Score\", ascending=False)\n",
    "    return models_df, trained_models\n"
   ]
  },
  {
   "cell_type": "code",
   "execution_count": 19,
   "id": "9336f805-80a4-4cd4-a590-61df76ed5083",
   "metadata": {},
   "outputs": [
    {
     "name": "stderr",
     "output_type": "stream",
     "text": [
      "C:\\Users\\TAN\\AppData\\Local\\anaconda3\\envs\\tensorflow-gpu\\lib\\site-packages\\sklearn\\ensemble\\_weight_boosting.py:519: FutureWarning: The SAMME.R algorithm (the default) is deprecated and will be removed in 1.6. Use the SAMME algorithm to circumvent this warning.\n",
      "  warnings.warn(\n"
     ]
    }
   ],
   "source": [
    "models_df, trained_models = evaluate_classification_models(x_train, x_test, y_train, y_test, classification_models)"
   ]
  },
  {
   "cell_type": "code",
   "execution_count": 20,
   "id": "78eb9596-02ff-4bf3-8761-e540bc42e521",
   "metadata": {
    "editable": true,
    "slideshow": {
     "slide_type": ""
    },
    "tags": []
   },
   "outputs": [
    {
     "data": {
      "text/html": [
       "<div>\n",
       "<style scoped>\n",
       "    .dataframe tbody tr th:only-of-type {\n",
       "        vertical-align: middle;\n",
       "    }\n",
       "\n",
       "    .dataframe tbody tr th {\n",
       "        vertical-align: top;\n",
       "    }\n",
       "\n",
       "    .dataframe thead th {\n",
       "        text-align: right;\n",
       "    }\n",
       "</style>\n",
       "<table border=\"1\" class=\"dataframe\">\n",
       "  <thead>\n",
       "    <tr style=\"text-align: right;\">\n",
       "      <th></th>\n",
       "      <th>Accuracy</th>\n",
       "      <th>ROC_AUC</th>\n",
       "      <th>F1_Score</th>\n",
       "      <th>Precision</th>\n",
       "      <th>Recall</th>\n",
       "      <th>Inference Time (ms)</th>\n",
       "    </tr>\n",
       "    <tr>\n",
       "      <th>Model-Name</th>\n",
       "      <th></th>\n",
       "      <th></th>\n",
       "      <th></th>\n",
       "      <th></th>\n",
       "      <th></th>\n",
       "      <th></th>\n",
       "    </tr>\n",
       "  </thead>\n",
       "  <tbody>\n",
       "    <tr>\n",
       "      <th>SVC</th>\n",
       "      <td>98.945171</td>\n",
       "      <td>0.989455</td>\n",
       "      <td>0.989724</td>\n",
       "      <td>0.990119</td>\n",
       "      <td>0.989328</td>\n",
       "      <td>82989.593744</td>\n",
       "    </tr>\n",
       "    <tr>\n",
       "      <th>ExtraTreesClassifier</th>\n",
       "      <td>98.863170</td>\n",
       "      <td>0.988649</td>\n",
       "      <td>0.988919</td>\n",
       "      <td>0.989818</td>\n",
       "      <td>0.988022</td>\n",
       "      <td>1162.738085</td>\n",
       "    </tr>\n",
       "    <tr>\n",
       "      <th>RandomForestClassifier</th>\n",
       "      <td>98.315256</td>\n",
       "      <td>0.983191</td>\n",
       "      <td>0.983564</td>\n",
       "      <td>0.985355</td>\n",
       "      <td>0.981779</td>\n",
       "      <td>1046.897888</td>\n",
       "    </tr>\n",
       "    <tr>\n",
       "      <th>BaggingClassifier</th>\n",
       "      <td>97.767341</td>\n",
       "      <td>0.977696</td>\n",
       "      <td>0.978227</td>\n",
       "      <td>0.979616</td>\n",
       "      <td>0.976842</td>\n",
       "      <td>192.410946</td>\n",
       "    </tr>\n",
       "    <tr>\n",
       "      <th>LogisticRegression</th>\n",
       "      <td>97.457975</td>\n",
       "      <td>0.974553</td>\n",
       "      <td>0.975252</td>\n",
       "      <td>0.974969</td>\n",
       "      <td>0.975535</td>\n",
       "      <td>1.502752</td>\n",
       "    </tr>\n",
       "    <tr>\n",
       "      <th>DecisionTreeClassifier</th>\n",
       "      <td>97.279064</td>\n",
       "      <td>0.972747</td>\n",
       "      <td>0.973526</td>\n",
       "      <td>0.972679</td>\n",
       "      <td>0.974374</td>\n",
       "      <td>31.757116</td>\n",
       "    </tr>\n",
       "    <tr>\n",
       "      <th>SGDClassifier</th>\n",
       "      <td>97.133699</td>\n",
       "      <td>0.971247</td>\n",
       "      <td>0.972157</td>\n",
       "      <td>0.969734</td>\n",
       "      <td>0.974592</td>\n",
       "      <td>10.192394</td>\n",
       "    </tr>\n",
       "    <tr>\n",
       "      <th>XGBClassifier</th>\n",
       "      <td>96.268963</td>\n",
       "      <td>0.962183</td>\n",
       "      <td>0.964287</td>\n",
       "      <td>0.948085</td>\n",
       "      <td>0.981053</td>\n",
       "      <td>11.723280</td>\n",
       "    </tr>\n",
       "    <tr>\n",
       "      <th>ExtraTreeClassifier</th>\n",
       "      <td>92.064557</td>\n",
       "      <td>0.920681</td>\n",
       "      <td>0.922461</td>\n",
       "      <td>0.925596</td>\n",
       "      <td>0.919347</td>\n",
       "      <td>10.730982</td>\n",
       "    </tr>\n",
       "    <tr>\n",
       "      <th>GradientBoostingClassifier</th>\n",
       "      <td>86.164225</td>\n",
       "      <td>0.858990</td>\n",
       "      <td>0.876661</td>\n",
       "      <td>0.808284</td>\n",
       "      <td>0.957677</td>\n",
       "      <td>18.509865</td>\n",
       "    </tr>\n",
       "    <tr>\n",
       "      <th>AdaBoostClassifier</th>\n",
       "      <td>85.340490</td>\n",
       "      <td>0.851215</td>\n",
       "      <td>0.867258</td>\n",
       "      <td>0.810395</td>\n",
       "      <td>0.932704</td>\n",
       "      <td>237.758875</td>\n",
       "    </tr>\n",
       "    <tr>\n",
       "      <th>XGBRFClassifier</th>\n",
       "      <td>72.928547</td>\n",
       "      <td>0.722704</td>\n",
       "      <td>0.785885</td>\n",
       "      <td>0.661620</td>\n",
       "      <td>0.967623</td>\n",
       "      <td>10.438919</td>\n",
       "    </tr>\n",
       "  </tbody>\n",
       "</table>\n",
       "</div>"
      ],
      "text/plain": [
       "                             Accuracy   ROC_AUC  F1_Score  Precision  \\\n",
       "Model-Name                                                             \n",
       "SVC                         98.945171  0.989455  0.989724   0.990119   \n",
       "ExtraTreesClassifier        98.863170  0.988649  0.988919   0.989818   \n",
       "RandomForestClassifier      98.315256  0.983191  0.983564   0.985355   \n",
       "BaggingClassifier           97.767341  0.977696  0.978227   0.979616   \n",
       "LogisticRegression          97.457975  0.974553  0.975252   0.974969   \n",
       "DecisionTreeClassifier      97.279064  0.972747  0.973526   0.972679   \n",
       "SGDClassifier               97.133699  0.971247  0.972157   0.969734   \n",
       "XGBClassifier               96.268963  0.962183  0.964287   0.948085   \n",
       "ExtraTreeClassifier         92.064557  0.920681  0.922461   0.925596   \n",
       "GradientBoostingClassifier  86.164225  0.858990  0.876661   0.808284   \n",
       "AdaBoostClassifier          85.340490  0.851215  0.867258   0.810395   \n",
       "XGBRFClassifier             72.928547  0.722704  0.785885   0.661620   \n",
       "\n",
       "                              Recall  Inference Time (ms)  \n",
       "Model-Name                                                 \n",
       "SVC                         0.989328         82989.593744  \n",
       "ExtraTreesClassifier        0.988022          1162.738085  \n",
       "RandomForestClassifier      0.981779          1046.897888  \n",
       "BaggingClassifier           0.976842           192.410946  \n",
       "LogisticRegression          0.975535             1.502752  \n",
       "DecisionTreeClassifier      0.974374            31.757116  \n",
       "SGDClassifier               0.974592            10.192394  \n",
       "XGBClassifier               0.981053            11.723280  \n",
       "ExtraTreeClassifier         0.919347            10.730982  \n",
       "GradientBoostingClassifier  0.957677            18.509865  \n",
       "AdaBoostClassifier          0.932704           237.758875  \n",
       "XGBRFClassifier             0.967623            10.438919  "
      ]
     },
     "execution_count": 20,
     "metadata": {},
     "output_type": "execute_result"
    }
   ],
   "source": [
    "models_df"
   ]
  },
  {
   "cell_type": "code",
   "execution_count": 21,
   "id": "753a2a80-0b1f-4b47-bc19-63838629ffe7",
   "metadata": {
    "editable": true,
    "slideshow": {
     "slide_type": ""
    },
    "tags": []
   },
   "outputs": [],
   "source": [
    "def evaluate_classification_metrics(y_true, y_pred, target_names=None, display=True):   \n",
    "    y_true = np.array(y_true)\n",
    "    y_pred = np.array(y_pred)\n",
    "  \n",
    "    cm = confusion_matrix(y_true, y_pred)\n",
    "\n",
    "    report = classification_report(y_true, y_pred, target_names=target_names)\n",
    "\n",
    "    if display:\n",
    "        ConfusionMatrixDisplay(cm, display_labels=target_names).plot()\n",
    "        plt.show()\n",
    "\n",
    "    evaluation_results = {\n",
    "        \"Confusion Matrix\": cm,\n",
    "        \"Classification Report\": report,\n",
    "        \"Target Names\": target_names,\n",
    "    }\n",
    "    return evaluation_results"
   ]
  },
  {
   "cell_type": "code",
   "execution_count": 22,
   "id": "738f9099-9706-400f-b017-9a0d8e9b393c",
   "metadata": {},
   "outputs": [],
   "source": [
    "prediction = trained_models[\"SVC\"].predict(x_test)"
   ]
  },
  {
   "cell_type": "code",
   "execution_count": 23,
   "id": "e738e93f-c8fa-4771-b7d6-efaceb3ee8a7",
   "metadata": {
    "editable": true,
    "slideshow": {
     "slide_type": ""
    },
    "tags": []
   },
   "outputs": [
    {
     "data": {
      "image/png": "[encoded data removed]",
      "text/plain": [
       "<Figure size 640x480 with 2 Axes>"
      ]
     },
     "metadata": {},
     "output_type": "display_data"
    }
   ],
   "source": [
    "from sklearn.metrics import confusion_matrix, ConfusionMatrixDisplay, classification_report\n",
    "target_names = [\"0\", \"1\"]\n",
    "evaluation = evaluate_classification_metrics(y_test, prediction,target_names)"
   ]
  },
  {
   "cell_type": "code",
   "execution_count": null,
   "id": "79b74982-be18-4d06-9bfb-228c653c8e09",
   "metadata": {},
   "outputs": [],
   "source": []
  },
  {
   "cell_type": "markdown",
   "id": "613d3a44-fe27-4f7e-9bbe-f476b5739356",
   "metadata": {},
   "source": [
    "Transformer Model Section"
   ]
  },
  {
   "cell_type": "code",
   "execution_count": 24,
   "id": "94e9d160-3213-4bf8-b7c7-a89d63b02e30",
   "metadata": {
    "tags": []
   },
   "outputs": [],
   "source": [
    "X_train, X_test, y_train, y_test = train_test_split(x, y,train_size=0.8,random_state=42,shuffle=True)"
   ]
  },
  {
   "cell_type": "code",
   "execution_count": 25,
   "id": "07b5663a-b101-4cd4-8df5-5b95c868d7ce",
   "metadata": {},
   "outputs": [
    {
     "data": {
      "text/plain": [
       "BinaryNumTarget\n",
       "1    55166\n",
       "0    52192\n",
       "Name: count, dtype: int64"
      ]
     },
     "execution_count": 25,
     "metadata": {},
     "output_type": "execute_result"
    }
   ],
   "source": [
    "y_train.value_counts()"
   ]
  },
  {
   "cell_type": "code",
   "execution_count": 26,
   "id": "bf581615-9bdf-4c63-9def-44b684573045",
   "metadata": {},
   "outputs": [],
   "source": [
    "#!pip install datasets transformers[sentencepiece]\n",
    "#!pip install sentencepiece"
   ]
  },
  {
   "cell_type": "code",
   "execution_count": 27,
   "id": "91595a11-e3ee-420d-a434-6c7a1f42f321",
   "metadata": {},
   "outputs": [
    {
     "name": "stderr",
     "output_type": "stream",
     "text": [
      "Some weights of the PyTorch model were not used when initializing the TF 2.0 model TFDistilBertModel: ['vocab_projector.bias', 'vocab_transform.weight', 'vocab_layer_norm.weight', 'vocab_transform.bias', 'vocab_layer_norm.bias']\n",
      "- This IS expected if you are initializing TFDistilBertModel from a PyTorch model trained on another task or with another architecture (e.g. initializing a TFBertForSequenceClassification model from a BertForPreTraining model).\n",
      "- This IS NOT expected if you are initializing TFDistilBertModel from a PyTorch model that you expect to be exactly identical (e.g. initializing a TFBertForSequenceClassification model from a BertForSequenceClassification model).\n",
      "All the weights of TFDistilBertModel were initialized from the PyTorch model.\n",
      "If your task is similar to the task the model of the checkpoint was trained on, you can already use TFDistilBertModel for predictions without further training.\n"
     ]
    }
   ],
   "source": [
    "tokenizer = DistilBertTokenizer.from_pretrained(\"distilbert-base-uncased\", local_files_only=True)\n",
    "transformer = TFDistilBertModel.from_pretrained(\"distilbert-base-uncased\", local_files_only=True)\n"
   ]
  },
  {
   "cell_type": "code",
   "execution_count": 28,
   "id": "9fff0183-f6a6-48a8-b894-360f093e9a29",
   "metadata": {},
   "outputs": [],
   "source": [
    "max_len = 160\n",
    "\n",
    "def bert_encode(tokenizer, data):\n",
    "    return data.apply(lambda tweet: tokenizer.encode(tweet, add_special_tokens=True))\n",
    "\n",
    "def max_len_sequences(sequences):\n",
    "    max_len = 0\n",
    "    \n",
    "    for sequence in sequences:\n",
    "        if len(sequence) > max_len:\n",
    "            max_len = len(sequence)\n",
    "    return max_len\n",
    "\n",
    "def pad_sequences(sequences, max_len):\n",
    "    return np.array([sequence + [0] * (max_len - len(sequence))\n",
    "                    for sequence in sequences])"
   ]
  },
  {
   "cell_type": "code",
   "execution_count": 29,
   "id": "014a1fc8-c0f7-41b8-bfb9-2cbe583acc2c",
   "metadata": {},
   "outputs": [],
   "source": [
    "sequences = bert_encode(tokenizer, X_train)\n",
    "sequences_test = bert_encode(tokenizer, X_test)"
   ]
  },
  {
   "cell_type": "code",
   "execution_count": 30,
   "id": "ae07e150-c53c-4f46-8a4c-6a7e2b7b7000",
   "metadata": {},
   "outputs": [],
   "source": [
    "sequences = pad_sequences(sequences, max_len)           # for X_train\n",
    "sequences_test = pad_sequences(sequences_test, max_len) # for X_test"
   ]
  },
  {
   "cell_type": "code",
   "execution_count": 31,
   "id": "5ba64281-d5de-45fc-b009-c8c302327a36",
   "metadata": {
    "editable": true,
    "slideshow": {
     "slide_type": ""
    },
    "tags": []
   },
   "outputs": [
    {
     "name": "stdout",
     "output_type": "stream",
     "text": [
      "Trial 25 Complete [00h 35m 05s]\n",
      "accuracy: 0.9990778565406799\n",
      "\n",
      "Best accuracy So Far: 0.9990778565406799\n",
      "Total elapsed time: 14h 49m 41s\n",
      "Results summary\n",
      "Results in /logs/Log\n",
      "Showing 10 best trials\n",
      "Objective(name=\"accuracy\", direction=\"max\")\n",
      "\n",
      "Trial 24 summary\n",
      "Hyperparameters:\n",
      "mlp_layers: 1\n",
      "lstm_unit: 128\n",
      "units_0: 32\n",
      "activation_0: relu\n",
      "kernel_initializer_0: uniform\n",
      "ann_dropout_0: False\n",
      "dropout_layer: True\n",
      "optimizer: Adamax\n",
      "learning_rate: 1e-05\n",
      "Score: 0.9990778565406799\n",
      "\n",
      "Trial 18 summary\n",
      "Hyperparameters:\n",
      "mlp_layers: 1\n",
      "lstm_unit: 128\n",
      "units_0: 32\n",
      "activation_0: relu\n",
      "kernel_initializer_0: uniform\n",
      "ann_dropout_0: False\n",
      "dropout_layer: True\n",
      "optimizer: RMSprop\n",
      "learning_rate: 1e-05\n",
      "Score: 0.9986773133277893\n",
      "\n",
      "Trial 19 summary\n",
      "Hyperparameters:\n",
      "mlp_layers: 1\n",
      "lstm_unit: 128\n",
      "units_0: 32\n",
      "activation_0: relu\n",
      "kernel_initializer_0: uniform\n",
      "ann_dropout_0: False\n",
      "dropout_layer: True\n",
      "optimizer: RMSprop\n",
      "learning_rate: 1e-06\n",
      "Score: 0.9983652830123901\n",
      "\n",
      "Trial 13 summary\n",
      "Hyperparameters:\n",
      "mlp_layers: 1\n",
      "lstm_unit: 128\n",
      "units_0: 32\n",
      "activation_0: relu\n",
      "kernel_initializer_0: uniform\n",
      "ann_dropout_0: False\n",
      "dropout_layer: False\n",
      "optimizer: Nadam\n",
      "learning_rate: 1e-06\n",
      "Score: 0.9964697659015656\n",
      "\n",
      "Trial 14 summary\n",
      "Hyperparameters:\n",
      "mlp_layers: 1\n",
      "lstm_unit: 128\n",
      "units_0: 32\n",
      "activation_0: relu\n",
      "kernel_initializer_0: uniform\n",
      "ann_dropout_0: False\n",
      "dropout_layer: True\n",
      "optimizer: Adam\n",
      "learning_rate: 1e-05\n",
      "Score: 0.9964185059070587\n",
      "\n",
      "Trial 11 summary\n",
      "Hyperparameters:\n",
      "mlp_layers: 1\n",
      "lstm_unit: 128\n",
      "units_0: 32\n",
      "activation_0: relu\n",
      "kernel_initializer_0: uniform\n",
      "ann_dropout_0: False\n",
      "dropout_layer: False\n",
      "optimizer: Adamax\n",
      "learning_rate: 1e-06\n",
      "Score: 0.9962182641029358\n",
      "\n",
      "Trial 10 summary\n",
      "Hyperparameters:\n",
      "mlp_layers: 1\n",
      "lstm_unit: 128\n",
      "units_0: 32\n",
      "activation_0: relu\n",
      "kernel_initializer_0: uniform\n",
      "ann_dropout_0: False\n",
      "dropout_layer: False\n",
      "optimizer: Adamax\n",
      "learning_rate: 1e-05\n",
      "Score: 0.9960971474647522\n",
      "\n",
      "Trial 15 summary\n",
      "Hyperparameters:\n",
      "mlp_layers: 1\n",
      "lstm_unit: 128\n",
      "units_0: 32\n",
      "activation_0: relu\n",
      "kernel_initializer_0: uniform\n",
      "ann_dropout_0: False\n",
      "dropout_layer: True\n",
      "optimizer: Adam\n",
      "learning_rate: 1e-06\n",
      "Score: 0.9958503246307373\n",
      "\n",
      "Trial 12 summary\n",
      "Hyperparameters:\n",
      "mlp_layers: 1\n",
      "lstm_unit: 128\n",
      "units_0: 32\n",
      "activation_0: relu\n",
      "kernel_initializer_0: uniform\n",
      "ann_dropout_0: False\n",
      "dropout_layer: False\n",
      "optimizer: Nadam\n",
      "learning_rate: 1e-05\n",
      "Score: 0.9948769807815552\n",
      "\n",
      "Trial 05 summary\n",
      "Hyperparameters:\n",
      "mlp_layers: 1\n",
      "lstm_unit: 128\n",
      "units_0: 32\n",
      "activation_0: relu\n",
      "kernel_initializer_0: uniform\n",
      "ann_dropout_0: False\n",
      "dropout_layer: False\n",
      "optimizer: RMSprop\n",
      "learning_rate: 1e-06\n",
      "Score: 0.9942947924137115\n"
     ]
    }
   ],
   "source": [
    "from tensorflow.keras.layers import Dense, Input,Dropout,LSTM,Embedding,Bidirectional\n",
    "from tensorflow.keras.layers import Reshape\n",
    "EarlyStoppingCallBack = tf.keras.callbacks.EarlyStopping(monitor='val_accuracy', patience=2)  # EarlyStopping callback initilization depends on val_accuracy\n",
    "from keras_tuner.tuners import GridSearch\n",
    "from tensorflow.keras.optimizers import Adam, RMSprop,SGD,Adadelta,Adagrad,Adamax,Nadam,Ftrl\n",
    "histories = {}\n",
    "def build_model(hp):\n",
    "    \n",
    "    input_word_ids = Input(shape=(max_len,), dtype=tf.int32, name=\"input_word_ids\")\n",
    "    sequence_output = transformer(input_word_ids)[0]\n",
    "    cls_token = sequence_output[:, 0, :]\n",
    "    \n",
    "    for i in range(hp.Int(\"mlp_layers\", 1, 5)):\n",
    "        cls_token =Bidirectional(LSTM(hp.Choice('lstm_unit', values=[128,256]), return_sequences=True))(Reshape((1, -1))(cls_token))\n",
    "        cls_token =Bidirectional(LSTM(64))(cls_token)\n",
    "        cls_token = tf.keras.layers.Dense(\n",
    "        units=hp.Int(f\"units_{i}\", 32, 256, step=32),\n",
    "        activation=hp.Choice(f\"activation_{i}\", [\"relu\", \"tanh\",\"gelu\"]),\n",
    "        kernel_initializer=hp.Choice(f\"kernel_initializer_{i}\", ['uniform']))(cls_token)\n",
    "        if hp.Boolean(f\"ann_dropout_{i}\" ):\n",
    "            cls_token=tf.keras.layers.Dropout(0.10)(cls_token)\n",
    "        if hp.Boolean(\"dropout_layer\"):\n",
    "            cls_token = tf.keras.layers.Dropout(0.10)(cls_token)\n",
    "    out = Dense(1, activation='sigmoid')(cls_token)\n",
    "    model = Model(inputs=input_word_ids, outputs=out)\n",
    "\n",
    "    \n",
    "    #Definining and choosing optimizers\n",
    "    optimizer_names = hp.Choice('optimizer', values=['Adam', 'SGD','RMSprop','Adadelta','Adagrad','Adamax','Nadam'])\n",
    "\n",
    "    # Choosing learning rates\n",
    "    learning_rate_choice = hp.Choice('learning_rate', values=[1e-5,1e-6])\n",
    "   \n",
    "    if optimizer_names == 'Adam':\n",
    "        optimizer = Adam(learning_rate=learning_rate_choice)\n",
    "    elif optimizer_names == 'RMSprop':\n",
    "        optimizer = RMSprop(learning_rate=learning_rate_choice)\n",
    "    elif optimizer_names == 'SGD':\n",
    "        optimizer = SGD(learning_rate=learning_rate_choice)\n",
    "    elif optimizer_names == 'Adadelta':\n",
    "        optimizer = Adadelta(learning_rate=learning_rate_choice)\n",
    "    elif optimizer_names == 'Adagrad':\n",
    "        optimizer = Adagrad(learning_rate=learning_rate_choice)\n",
    "    elif optimizer_names == 'Adamax':\n",
    "        optimizer = Adamax(learning_rate=learning_rate_choice)\n",
    "    elif optimizer_names == 'Nadam':\n",
    "        optimizer = Nadam(learning_rate=learning_rate_choice)\n",
    "    model.compile(\n",
    "        optimizer=optimizer,\n",
    "        loss='binary_crossentropy',\n",
    "        metrics=['accuracy']\n",
    "    )\n",
    "    return model\n",
    "\n",
    "tuner = GridSearch(build_model,objective='accuracy',max_trials=25,executions_per_trial=2,directory='/logs/Log',project_name=\"/logs/Log\")\n",
    "tuner.search(sequences, y_train, validation_data=(sequences_test,y_test),callbacks=[tf.keras.callbacks.TensorBoard(\"/logs/tb_logs\")])\n",
    "tuner.results_summary()"
   ]
  },
  {
   "cell_type": "code",
   "execution_count": 32,
   "id": "fb240b49-487f-4129-8e99-4afa47aaa52d",
   "metadata": {},
   "outputs": [],
   "source": [
    "best_model = tuner.get_best_models(num_models=1)[0]"
   ]
  },
  {
   "cell_type": "code",
   "execution_count": 33,
   "id": "1466be2f-eccd-440c-a033-43034ac32a4d",
   "metadata": {},
   "outputs": [
    {
     "name": "stdout",
     "output_type": "stream",
     "text": [
      "Epoch 1/10\n",
      "3355/3355 [==============================] - 1046s 310ms/step - loss: 0.0093 - accuracy: 0.9993 - val_loss: 0.0392 - val_accuracy: 0.9932\n",
      "Epoch 2/10\n",
      "3355/3355 [==============================] - 1040s 310ms/step - loss: 0.0068 - accuracy: 0.9993 - val_loss: 0.0332 - val_accuracy: 0.9938\n",
      "Epoch 3/10\n",
      "3355/3355 [==============================] - 1041s 310ms/step - loss: 0.0058 - accuracy: 0.9993 - val_loss: 0.0343 - val_accuracy: 0.9937\n",
      "Epoch 4/10\n",
      "3355/3355 [==============================] - 1040s 310ms/step - loss: 0.0049 - accuracy: 0.9995 - val_loss: 0.0360 - val_accuracy: 0.9933\n",
      "Epoch 5/10\n",
      "3355/3355 [==============================] - 1048s 312ms/step - loss: 0.0047 - accuracy: 0.9994 - val_loss: 0.0342 - val_accuracy: 0.9931\n",
      "Epoch 6/10\n",
      "3355/3355 [==============================] - 1059s 316ms/step - loss: 0.0042 - accuracy: 0.9995 - val_loss: 0.0369 - val_accuracy: 0.9941\n",
      "Epoch 7/10\n",
      "3355/3355 [==============================] - 1070s 319ms/step - loss: 0.0043 - accuracy: 0.9995 - val_loss: 0.0348 - val_accuracy: 0.9940\n",
      "Epoch 8/10\n",
      "3355/3355 [==============================] - 1062s 317ms/step - loss: 0.0040 - accuracy: 0.9995 - val_loss: 0.0370 - val_accuracy: 0.9937\n",
      "Epoch 9/10\n",
      "3355/3355 [==============================] - 1097s 327ms/step - loss: 0.0040 - accuracy: 0.9995 - val_loss: 0.0375 - val_accuracy: 0.9941\n",
      "Epoch 10/10\n",
      "3355/3355 [==============================] - 1103s 329ms/step - loss: 0.0040 - accuracy: 0.9995 - val_loss: 0.0388 - val_accuracy: 0.9939\n"
     ]
    }
   ],
   "source": [
    "history=best_model.fit(sequences, y_train, validation_data=(sequences_test,y_test), epochs=10, batch_size=32,verbose=1)"
   ]
  },
  {
   "cell_type": "code",
   "execution_count": 34,
   "id": "b35337ed-38cd-4add-8ff0-d4dd736edd94",
   "metadata": {
    "editable": true,
    "slideshow": {
     "slide_type": ""
    },
    "tags": []
   },
   "outputs": [
    {
     "data": {
      "image/png": "[encoded data removed]",
      "text/plain": [
       "<Figure size 640x480 with 1 Axes>"
      ]
     },
     "metadata": {},
     "output_type": "display_data"
    }
   ],
   "source": [
    "plt.plot(history.history['accuracy'])\n",
    "plt.plot(history.history['val_accuracy'])\n",
    "plt.title('model accuracy')\n",
    "plt.ylabel('accuracy')\n",
    "plt.xlabel('epoch')\n",
    "plt.legend(['train', 'val'], loc='upper left')\n",
    "plt.ylim(0.97, 1)  # Y eksenini 0 ile 1 arasında sınırla\n",
    "plt.show()"
   ]
  },
  {
   "cell_type": "code",
   "execution_count": 35,
   "id": "7491c5d4-1a51-4ece-9e21-c6f0b05b7c0a",
   "metadata": {},
   "outputs": [
    {
     "data": {
      "image/png": "[encoded data removed]",
      "text/plain": [
       "<Figure size 640x480 with 1 Axes>"
      ]
     },
     "metadata": {},
     "output_type": "display_data"
    }
   ],
   "source": [
    "plt.plot(history.history['loss'])\n",
    "plt.plot(history.history['val_loss'])\n",
    "plt.title('model loss')\n",
    "plt.ylabel('loss')\n",
    "plt.xlabel('epoch')\n",
    "plt.legend(['train', 'val'], loc='upper left')\n",
    "plt.ylim(0, 0.2)  # Y eksenini 0 ile 1 arasında sınırla\n",
    "plt.show()"
   ]
  },
  {
   "cell_type": "code",
   "execution_count": 36,
   "id": "248653f8-cdeb-4f62-aa1c-f990cdd8a286",
   "metadata": {},
   "outputs": [
    {
     "name": "stdout",
     "output_type": "stream",
     "text": [
      "839/839 [==============================] - 81s 94ms/step\n"
     ]
    }
   ],
   "source": [
    "y_predicted = best_model.predict(sequences_test)\n",
    "y_predicted = y_predicted.flatten()\n",
    "y_predicted = np.where(y_predicted > 0.5, 1, 0)"
   ]
  },
  {
   "cell_type": "code",
   "execution_count": 37,
   "id": "b912c6b5-da91-447f-a15f-f57d3a6b0428",
   "metadata": {
    "editable": true,
    "slideshow": {
     "slide_type": ""
    },
    "tags": []
   },
   "outputs": [],
   "source": [
    "from sklearn.metrics import confusion_matrix, classification_report\n",
    "\n",
    "cm = confusion_matrix(y_test, y_predicted)"
   ]
  },
  {
   "cell_type": "code",
   "execution_count": 38,
   "id": "b3a76ccf-d8bf-4497-9cc1-df1585462c40",
   "metadata": {
    "editable": true,
    "slideshow": {
     "slide_type": ""
    },
    "tags": []
   },
   "outputs": [
    {
     "data": {
      "text/plain": [
       "Text(50.722222222222214, 0.5, 'Truth')"
      ]
     },
     "execution_count": 38,
     "metadata": {},
     "output_type": "execute_result"
    },
    {
     "data": {
      "image/png": "[encoded data removed]",
      "text/plain": [
       "<Figure size 640x480 with 2 Axes>"
      ]
     },
     "metadata": {},
     "output_type": "display_data"
    }
   ],
   "source": [
    "from matplotlib import pyplot as plt\n",
    "import seaborn as sn\n",
    "sn.heatmap(cm, annot=True, fmt='d')\n",
    "plt.xlabel('Predicted')\n",
    "plt.ylabel('Truth')"
   ]
  },
  {
   "cell_type": "code",
   "execution_count": 39,
   "id": "f1c0cbb2-bb54-4d73-8d7a-62f3f92dc6a5",
   "metadata": {},
   "outputs": [
    {
     "name": "stdout",
     "output_type": "stream",
     "text": [
      "              precision    recall  f1-score   support\n",
      "\n",
      "           0       1.00      0.99      0.99     13076\n",
      "           1       0.99      1.00      0.99     13764\n",
      "\n",
      "    accuracy                           0.99     26840\n",
      "   macro avg       0.99      0.99      0.99     26840\n",
      "weighted avg       0.99      0.99      0.99     26840\n",
      "\n"
     ]
    }
   ],
   "source": [
    "print(classification_report(y_test, y_predicted))"
   ]
  },
  {
   "cell_type": "code",
   "execution_count": null,
   "id": "a2dda1e6-0444-4f9d-8d9e-67ee6120b787",
   "metadata": {},
   "outputs": [],
   "source": []
  },
  {
   "cell_type": "code",
   "execution_count": null,
   "id": "20bb01ec-61a8-450d-89f2-8af07ba5c480",
   "metadata": {},
   "outputs": [],
   "source": []
  },
  {
   "cell_type": "code",
   "execution_count": null,
   "id": "3f6ffa5c-6bd9-4cef-b122-fa70f4817c97",
   "metadata": {},
   "outputs": [],
   "source": []
  },
  {
   "cell_type": "code",
   "execution_count": null,
   "id": "82cd055b-d8c0-4c20-9310-4ad917718ac8",
   "metadata": {},
   "outputs": [],
   "source": []
  },
  {
   "cell_type": "code",
   "execution_count": null,
   "id": "7a6fedde-1961-4548-9e08-d140f9a87240",
   "metadata": {},
   "outputs": [],
   "source": []
  },
  {
   "cell_type": "code",
   "execution_count": null,
   "id": "f3142783-921c-4b71-8154-a5b27b386ff9",
   "metadata": {},
   "outputs": [],
   "source": []
  }
 ],
 "metadata": {
  "kernelspec": {
   "display_name": "Python 3 (ipykernel)",
   "language": "python",
   "name": "python3"
  },
  "language_info": {
   "codemirror_mode": {
    "name": "ipython",
    "version": 3
   },
   "file_extension": ".py",
   "mimetype": "text/x-python",
   "name": "python",
   "nbconvert_exporter": "python",
   "pygments_lexer": "ipython3",
   "version": "3.9.16"
  }
 },
 "nbformat": 4,
 "nbformat_minor": 5
}
